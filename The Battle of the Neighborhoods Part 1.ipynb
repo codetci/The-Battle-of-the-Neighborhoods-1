{
 "cells": [
  {
   "cell_type": "markdown",
   "metadata": {},
   "source": [
    "# The Battle of the Neighborhoods \n"
   ]
  },
  {
   "cell_type": "markdown",
   "metadata": {},
   "source": [
    "# Introduction & Business Problem "
   ]
  },
  {
   "cell_type": "markdown",
   "metadata": {},
   "source": [
    "# Problem Background:\n"
   ]
  },
  {
   "cell_type": "markdown",
   "metadata": {},
   "source": [
    "The City of New York, is the most full of people city in the United States. It is many different kinds of people or things and is the related to managing money capital of USA. It is including people of different backgrounds. It provides lot of business oppourtunities and business friendly surrounding conditions. It has attracted many different players into the market. It is a worldwide hub of business and commerce. The city is a major center for banking and finance, retailing, world trade, transportation, tourism, real estate, new media, traditional media, advertising, legal services, the study of money, insurance, theater, fashion, and the arts in the United States.\n",
    "\n",
    "This also means that the market is highly competitive. As it is highly developed city so cost of doing business is also one of the highest. So, any new business trip/business or act of something getting bigger, wider, etc. needs to be analysed carefully. The understandings of deep things) came/coming from analysis will give good understanding of the business surrounding conditions) which help in intelligently targeting the market. This will help in reduction of risk. And the Return on Investment will be reasonable.\n"
   ]
  },
  {
   "cell_type": "markdown",
   "metadata": {},
   "source": [
    "# Problem Description: "
   ]
  },
  {
   "attachments": {},
   "cell_type": "markdown",
   "metadata": {},
   "source": [
    "A restaurant is a business which prepares is a business which gets ready and serves food and drink to customers in return for money , either paid before the meal , after the meal , or with an open account . The City of New York is greatly respected for its excelllent way of cooking . it ' s food society development includes an array of between nations way of cooking effected by the great town ' s person coming into the country in the near past history .\n",
    "\n",
    "1.\tCentral and Eastern European immigrants, especially Jewish immigrants - bagels, cheesecake, hot dogs, knishes, and delicatessens\n",
    "2.\tItalian immigrants - New York-style pizza and Italian cuisine\n",
    "3.\tJewish immigrants and Irish immigrants - pastrami and corned beef\n",
    "4.\tChinese and other Asian restaurants, sandwich joints, trattorias, diners, and coffeehouses are ubiquitous throughout the city\n",
    "5.\tmobile food vendors - Some 4,000 licensed by the city\n",
    "6.\tMiddle Eastern foods such as falafel and kebabs examples of modern New York street food\n",
    "7.\tIt is famous for not just Pizzerias, Cafe's but also for fine dining Michelin starred restaurants.\n",
    "\n",
    "The city is home to \"nearly one thousand of the finest and most diverse haute cuisine restaurants in the world\", according to Michelin. \n",
    "So it is evident that to survive in such competitive market it is very important to startegically plan. Various factors need to be studied inorder to decide on the Location such as : \n",
    "1.\tNew York Population \n",
    "2.\tNew York City Demographics \n",
    "3.\tAre there any Farmers Markets, Wholesale markets etc nearby so that the ingredients can be purchased fresh to maintain quality and cost?\n",
    "4.\tAre there any venues like Gyms, Entertainmnet zones, Parks etc nearby where floating population is high etc \n",
    "5.\tWho are the competitors in that location? \n",
    "6.\tCuisine served / Menu of the competitors \n",
    "7.\tSegmentation of the Borough \n",
    "8.\tUntapped markets \n",
    "9.\tSaturated markets etc\n",
    "\n",
    "\n",
    "Eventhough well given money for a purpose XYZ Company Ltd. need to select the correct placing to start its first venture . if this is with a good outcome they can copy the same in other places. First move is very important, thereby selection of placing is very important."
   ]
  },
  {
   "cell_type": "markdown",
   "metadata": {},
   "source": [
    "# Target Audience:"
   ]
  },
  {
   "cell_type": "markdown",
   "metadata": {},
   "source": [
    "to suggest the correct placing , XYZ Company Ltd has appointed me to lead of the facts Science group . The objective is to locate and suggest to the management which one part of town of Newyork great town will be best selection to start a store for taking food . \n",
    "\n",
    "The management also expects to get through knowledge of the rationale of the recommendations made. This would interest anyone who wants to start a new store for taking food in Newyork great town .\n"
   ]
  },
  {
   "cell_type": "markdown",
   "metadata": {},
   "source": [
    "# Success Criteria:"
   ]
  },
  {
   "cell_type": "markdown",
   "metadata": {},
   "source": [
    "The prosperity criteria of the project will be a good recommendation of borough/Neighborhood cull to XYZ Company Ltd predicated on Lack of such restaurants in that location and most proximate suppliers of ingredients.\n",
    "\n"
   ]
  },
  {
   "cell_type": "code",
   "execution_count": null,
   "metadata": {},
   "outputs": [],
   "source": []
  }
 ],
 "metadata": {
  "kernelspec": {
   "display_name": "Python 3",
   "language": "python",
   "name": "python3"
  },
  "language_info": {
   "codemirror_mode": {
    "name": "ipython",
    "version": 3
   },
   "file_extension": ".py",
   "mimetype": "text/x-python",
   "name": "python",
   "nbconvert_exporter": "python",
   "pygments_lexer": "ipython3",
   "version": "3.7.3"
  }
 },
 "nbformat": 4,
 "nbformat_minor": 2
}
