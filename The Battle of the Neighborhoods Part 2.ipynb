{
 "cells": [
  {
   "cell_type": "markdown",
   "metadata": {},
   "source": [
    "# The Battle of the Neighborhoods\n"
   ]
  },
  {
   "cell_type": "markdown",
   "metadata": {},
   "source": [
    "# Data"
   ]
  },
  {
   "cell_type": "markdown",
   "metadata": {},
   "source": [
    "One city will be dissected in this extend : Newyork City. \n",
    "\n",
    "We will be utilizing the underneath datasets for examining Newyork city \n",
    "\n",
    "Data 1 : Neighborhood includes a add up to of 5 boroughs and 306 neighborhoods. In order to segement the neighborhoods and investigate them, we'll basically require a dataset that contains the 5 boroughs and the neighborhoods that exist in each borough as well as the the scope and logitude facilitates of each neighborhood."
   ]
  },
  {
   "cell_type": "markdown",
   "metadata": {},
   "source": [
    "Please see access to dataset https://geo.nyu.edu/catalog/nyu_2451_34572"
   ]
  },
  {
   "cell_type": "markdown",
   "metadata": {},
   "source": [
    "Data 2 : Moment information which can be utilized is the DOHMH Agriculturists Markets and Food Boxes dataset. In this we are going be utilizing the information of Ranchers Markets."
   ]
  },
  {
   "cell_type": "markdown",
   "metadata": {},
   "source": [
    "https://data.cityofnewyork.us/dataset/DOHMH-Farmers-Markets-and-Food-Boxes/8vwk-6iz2\n",
    "\n",
    "\n",
    "Website-https://www.grownyc.org/greenmarketco/foodbox "
   ]
  },
  {
   "cell_type": "markdown",
   "metadata": {},
   "source": [
    "GrowNYC's New Nourishment Box Program may be a nourishment get to activity that empowers under-served communities to buy new, sound, and basically territorially developed create well underneath conventional retail prices.\n",
    "\n",
    "A farmers' showcase is frequently characterized as a open location utilized by two or more neighborhood or territorial makers for the coordinate deal of cultivate items to customers. In expansion to new natural products and vegetables, markets may offer dairy items, angle, meat, heated merchandise, and other negligibly handled foods."
   ]
  },
  {
   "attachments": {},
   "cell_type": "markdown",
   "metadata": {},
   "source": [
    "Data 3 : For the underneath examination we'll get information from wikipedia as given underneath :\n",
    "\n",
    "1. New York Population \n",
    "2. New York City Demographics \n",
    "3. Cuisine of New York city \n",
    "\n",
    "https://en.wikipedia.org/wiki/Portal:New_York_City\n",
    "https://en.wikipedia.org/wiki/Cuisine_of_New_York_City \n",
    "https://en.wikipedia.org/wiki/List_of_Michelin_starred_restaurants_in_New_York_City\n",
    "https://en.wikipedia.org/wiki/Economy_of_New_York_City\n",
    "https://en.wikipedia.org/wiki/New_York_City\n",
    "\n",
    "\n",
    "\n"
   ]
  },
  {
   "cell_type": "markdown",
   "metadata": {},
   "source": [
    "Data 4 : Newyork city topographical arranges information will be utilized as input for the Foursquare API, that will be utilized to arrangement settings data for each neighborhood.We will utilize the Foursquare API to investigate neighborhoods in Unused York City. The underneath is picture of the Foursquare API information."
   ]
  },
  {
   "cell_type": "code",
   "execution_count": null,
   "metadata": {},
   "outputs": [],
   "source": []
  }
 ],
 "metadata": {
  "kernelspec": {
   "display_name": "Python 3",
   "language": "python",
   "name": "python3"
  },
  "language_info": {
   "codemirror_mode": {
    "name": "ipython",
    "version": 3
   },
   "file_extension": ".py",
   "mimetype": "text/x-python",
   "name": "python",
   "nbconvert_exporter": "python",
   "pygments_lexer": "ipython3",
   "version": "3.7.3"
  }
 },
 "nbformat": 4,
 "nbformat_minor": 2
}
